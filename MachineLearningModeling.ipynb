{
 "cells": [
  {
   "cell_type": "markdown",
   "id": "9b8c036a-8696-4ea5-9707-4821d26cbd3d",
   "metadata": {
    "tags": []
   },
   "source": [
    "# Machine Learning Models"
   ]
  },
  {
   "cell_type": "markdown",
   "id": "ec43e45c-5932-4759-b3f9-2100e7468762",
   "metadata": {
    "tags": []
   },
   "source": [
    "## Import the necessary libraries and tools"
   ]
  },
  {
   "cell_type": "code",
   "execution_count": 1,
   "id": "49013169-ffef-4b26-a66a-66a18574fe08",
   "metadata": {
    "tags": []
   },
   "outputs": [],
   "source": [
    "import numpy as np\n",
    "import pandas as pd\n",
    "import tensorflow as tf\n",
    "import seaborn as sns\n",
    "import matplotlib.pyplot as plt\n",
    "\n",
    "from sklearn.model_selection import train_test_split\n",
    "from sklearn.preprocessing import StandardScaler\n",
    "from sklearn.linear_model import LinearRegression, LogisticRegression\n",
    "from sklearn.metrics import mean_squared_error\n",
    "from sklearn.tree import DecisionTreeRegressor, DecisionTreeClassifier\n",
    "from sklearn.ensemble import RandomForestRegressor, RandomForestClassifier\n",
    "from sklearn.metrics import r2_score, mean_absolute_error, accuracy_score\n",
    "from tensorflow import keras\n",
    "from tensorflow.keras import Sequential\n",
    "from tensorflow.keras.layers import Dense"
   ]
  },
  {
   "cell_type": "code",
   "execution_count": 2,
   "id": "8d73984e-d6f1-44c9-b5c2-7efd923667a7",
   "metadata": {
    "tags": []
   },
   "outputs": [],
   "source": [
    "df = pd.read_csv('cleaned_animationmovies.csv')"
   ]
  },
  {
   "cell_type": "code",
   "execution_count": 3,
   "id": "9e037174-eaf7-41ec-8ab9-e9217b30f780",
   "metadata": {
    "tags": []
   },
   "outputs": [
    {
     "data": {
      "text/html": [
       "<div>\n",
       "<style scoped>\n",
       "    .dataframe tbody tr th:only-of-type {\n",
       "        vertical-align: middle;\n",
       "    }\n",
       "\n",
       "    .dataframe tbody tr th {\n",
       "        vertical-align: top;\n",
       "    }\n",
       "\n",
       "    .dataframe thead th {\n",
       "        text-align: right;\n",
       "    }\n",
       "</style>\n",
       "<table border=\"1\" class=\"dataframe\">\n",
       "  <thead>\n",
       "    <tr style=\"text-align: right;\">\n",
       "      <th></th>\n",
       "      <th>title</th>\n",
       "      <th>vote_average</th>\n",
       "      <th>vote_count</th>\n",
       "      <th>status</th>\n",
       "      <th>release_date</th>\n",
       "      <th>revenue</th>\n",
       "      <th>runtime</th>\n",
       "      <th>adult</th>\n",
       "      <th>budget</th>\n",
       "      <th>original_language</th>\n",
       "      <th>original_title</th>\n",
       "      <th>popularity</th>\n",
       "      <th>genres</th>\n",
       "      <th>production_companies</th>\n",
       "      <th>production_countries</th>\n",
       "      <th>spoken_languages</th>\n",
       "      <th>release_year</th>\n",
       "      <th>release_month</th>\n",
       "      <th>profit</th>\n",
       "    </tr>\n",
       "  </thead>\n",
       "  <tbody>\n",
       "    <tr>\n",
       "      <th>0</th>\n",
       "      <td>Inside Out</td>\n",
       "      <td>7.922</td>\n",
       "      <td>19463</td>\n",
       "      <td>Released</td>\n",
       "      <td>2015-06-09</td>\n",
       "      <td>857611174</td>\n",
       "      <td>95</td>\n",
       "      <td>0</td>\n",
       "      <td>175000000</td>\n",
       "      <td>en</td>\n",
       "      <td>Inside Out</td>\n",
       "      <td>107.292</td>\n",
       "      <td>['Animation', 'Family', 'Adventure', 'Drama', ...</td>\n",
       "      <td>['Pixar', 'Walt Disney Pictures']</td>\n",
       "      <td>['United States of America']</td>\n",
       "      <td>English</td>\n",
       "      <td>2015</td>\n",
       "      <td>6</td>\n",
       "      <td>682611174</td>\n",
       "    </tr>\n",
       "    <tr>\n",
       "      <th>1</th>\n",
       "      <td>Up</td>\n",
       "      <td>7.949</td>\n",
       "      <td>18857</td>\n",
       "      <td>Released</td>\n",
       "      <td>2009-05-28</td>\n",
       "      <td>735099082</td>\n",
       "      <td>96</td>\n",
       "      <td>0</td>\n",
       "      <td>175000000</td>\n",
       "      <td>en</td>\n",
       "      <td>Up</td>\n",
       "      <td>90.968</td>\n",
       "      <td>['Animation', 'Comedy', 'Family', 'Adventure']</td>\n",
       "      <td>['Pixar']</td>\n",
       "      <td>['United States of America']</td>\n",
       "      <td>English</td>\n",
       "      <td>2009</td>\n",
       "      <td>5</td>\n",
       "      <td>560099082</td>\n",
       "    </tr>\n",
       "    <tr>\n",
       "      <th>2</th>\n",
       "      <td>Finding Nemo</td>\n",
       "      <td>7.824</td>\n",
       "      <td>18061</td>\n",
       "      <td>Released</td>\n",
       "      <td>2003-05-30</td>\n",
       "      <td>940335536</td>\n",
       "      <td>100</td>\n",
       "      <td>0</td>\n",
       "      <td>94000000</td>\n",
       "      <td>en</td>\n",
       "      <td>Finding Nemo</td>\n",
       "      <td>55.456</td>\n",
       "      <td>['Animation', 'Family']</td>\n",
       "      <td>['Pixar']</td>\n",
       "      <td>['United States of America']</td>\n",
       "      <td>English</td>\n",
       "      <td>2003</td>\n",
       "      <td>5</td>\n",
       "      <td>846335536</td>\n",
       "    </tr>\n",
       "    <tr>\n",
       "      <th>3</th>\n",
       "      <td>Coco</td>\n",
       "      <td>8.222</td>\n",
       "      <td>17742</td>\n",
       "      <td>Released</td>\n",
       "      <td>2017-10-27</td>\n",
       "      <td>800526015</td>\n",
       "      <td>105</td>\n",
       "      <td>0</td>\n",
       "      <td>175000000</td>\n",
       "      <td>en</td>\n",
       "      <td>Coco</td>\n",
       "      <td>166.578</td>\n",
       "      <td>['Family', 'Animation', 'Fantasy', 'Music', 'C...</td>\n",
       "      <td>['Pixar', 'Walt Disney Pictures']</td>\n",
       "      <td>['United States of America']</td>\n",
       "      <td>English, Spanish</td>\n",
       "      <td>2017</td>\n",
       "      <td>10</td>\n",
       "      <td>625526015</td>\n",
       "    </tr>\n",
       "    <tr>\n",
       "      <th>4</th>\n",
       "      <td>WALL·E</td>\n",
       "      <td>8.078</td>\n",
       "      <td>17446</td>\n",
       "      <td>Released</td>\n",
       "      <td>2008-06-22</td>\n",
       "      <td>521311860</td>\n",
       "      <td>98</td>\n",
       "      <td>0</td>\n",
       "      <td>180000000</td>\n",
       "      <td>en</td>\n",
       "      <td>WALL·E</td>\n",
       "      <td>58.517</td>\n",
       "      <td>['Animation', 'Family', 'Science Fiction']</td>\n",
       "      <td>['Pixar', 'Walt Disney Pictures']</td>\n",
       "      <td>['United States of America']</td>\n",
       "      <td>English</td>\n",
       "      <td>2008</td>\n",
       "      <td>6</td>\n",
       "      <td>341311860</td>\n",
       "    </tr>\n",
       "    <tr>\n",
       "      <th>...</th>\n",
       "      <td>...</td>\n",
       "      <td>...</td>\n",
       "      <td>...</td>\n",
       "      <td>...</td>\n",
       "      <td>...</td>\n",
       "      <td>...</td>\n",
       "      <td>...</td>\n",
       "      <td>...</td>\n",
       "      <td>...</td>\n",
       "      <td>...</td>\n",
       "      <td>...</td>\n",
       "      <td>...</td>\n",
       "      <td>...</td>\n",
       "      <td>...</td>\n",
       "      <td>...</td>\n",
       "      <td>...</td>\n",
       "      <td>...</td>\n",
       "      <td>...</td>\n",
       "      <td>...</td>\n",
       "    </tr>\n",
       "    <tr>\n",
       "      <th>21668</th>\n",
       "      <td>Viliam</td>\n",
       "      <td>0.000</td>\n",
       "      <td>0</td>\n",
       "      <td>Released</td>\n",
       "      <td>2009-01-01</td>\n",
       "      <td>0</td>\n",
       "      <td>7</td>\n",
       "      <td>0</td>\n",
       "      <td>0</td>\n",
       "      <td>sk</td>\n",
       "      <td>Viliam</td>\n",
       "      <td>0.600</td>\n",
       "      <td>['Animation']</td>\n",
       "      <td>['Ové Pictures']</td>\n",
       "      <td>['Slovakia']</td>\n",
       "      <td>English, Slovak</td>\n",
       "      <td>2009</td>\n",
       "      <td>1</td>\n",
       "      <td>0</td>\n",
       "    </tr>\n",
       "    <tr>\n",
       "      <th>21669</th>\n",
       "      <td>Story of the Christmas Toys</td>\n",
       "      <td>0.000</td>\n",
       "      <td>0</td>\n",
       "      <td>Released</td>\n",
       "      <td>1990-12-24</td>\n",
       "      <td>0</td>\n",
       "      <td>22</td>\n",
       "      <td>0</td>\n",
       "      <td>0</td>\n",
       "      <td>en</td>\n",
       "      <td>Story of the Christmas Toys</td>\n",
       "      <td>0.644</td>\n",
       "      <td>['Animation', 'Family']</td>\n",
       "      <td>['Leeway Sound']</td>\n",
       "      <td>['United States of America']</td>\n",
       "      <td>English</td>\n",
       "      <td>1990</td>\n",
       "      <td>12</td>\n",
       "      <td>0</td>\n",
       "    </tr>\n",
       "    <tr>\n",
       "      <th>21670</th>\n",
       "      <td>Migrante</td>\n",
       "      <td>0.000</td>\n",
       "      <td>0</td>\n",
       "      <td>Released</td>\n",
       "      <td>2019-06-26</td>\n",
       "      <td>0</td>\n",
       "      <td>6</td>\n",
       "      <td>0</td>\n",
       "      <td>0</td>\n",
       "      <td>en</td>\n",
       "      <td>Migrante</td>\n",
       "      <td>0.851</td>\n",
       "      <td>['Animation']</td>\n",
       "      <td>['ANIMA LATINA']</td>\n",
       "      <td>['Argentina']</td>\n",
       "      <td>Spanish</td>\n",
       "      <td>2019</td>\n",
       "      <td>6</td>\n",
       "      <td>0</td>\n",
       "    </tr>\n",
       "    <tr>\n",
       "      <th>21671</th>\n",
       "      <td>Shimajiro to Ururu no Heroland</td>\n",
       "      <td>0.000</td>\n",
       "      <td>0</td>\n",
       "      <td>Released</td>\n",
       "      <td>2019-03-15</td>\n",
       "      <td>0</td>\n",
       "      <td>60</td>\n",
       "      <td>0</td>\n",
       "      <td>0</td>\n",
       "      <td>ja</td>\n",
       "      <td>映画しまじろう しまじろうとうるるのヒーローランド</td>\n",
       "      <td>2.531</td>\n",
       "      <td>['Family', 'Animation', 'Fantasy']</td>\n",
       "      <td>['Benesse', 'Sony Music Direct', 'TOHO', 'The ...</td>\n",
       "      <td>['Japan']</td>\n",
       "      <td>Japanese, English, Mandarin</td>\n",
       "      <td>2019</td>\n",
       "      <td>3</td>\n",
       "      <td>0</td>\n",
       "    </tr>\n",
       "    <tr>\n",
       "      <th>21672</th>\n",
       "      <td>Natural Selection</td>\n",
       "      <td>0.000</td>\n",
       "      <td>0</td>\n",
       "      <td>Released</td>\n",
       "      <td>2019-08-20</td>\n",
       "      <td>0</td>\n",
       "      <td>10</td>\n",
       "      <td>0</td>\n",
       "      <td>0</td>\n",
       "      <td>bs</td>\n",
       "      <td>Prirodni odabir</td>\n",
       "      <td>0.600</td>\n",
       "      <td>['Animation']</td>\n",
       "      <td>['Studio Neum', 'Zagreb Film']</td>\n",
       "      <td>['Bosnia', 'Herzegovina', 'Croatia']</td>\n",
       "      <td>Bosnian</td>\n",
       "      <td>2019</td>\n",
       "      <td>8</td>\n",
       "      <td>0</td>\n",
       "    </tr>\n",
       "  </tbody>\n",
       "</table>\n",
       "<p>21673 rows × 19 columns</p>\n",
       "</div>"
      ],
      "text/plain": [
       "                                title  vote_average  vote_count    status  \\\n",
       "0                          Inside Out         7.922       19463  Released   \n",
       "1                                  Up         7.949       18857  Released   \n",
       "2                        Finding Nemo         7.824       18061  Released   \n",
       "3                                Coco         8.222       17742  Released   \n",
       "4                              WALL·E         8.078       17446  Released   \n",
       "...                               ...           ...         ...       ...   \n",
       "21668                          Viliam         0.000           0  Released   \n",
       "21669     Story of the Christmas Toys         0.000           0  Released   \n",
       "21670                        Migrante         0.000           0  Released   \n",
       "21671  Shimajiro to Ururu no Heroland         0.000           0  Released   \n",
       "21672               Natural Selection         0.000           0  Released   \n",
       "\n",
       "      release_date    revenue  runtime  adult     budget original_language  \\\n",
       "0       2015-06-09  857611174       95      0  175000000                en   \n",
       "1       2009-05-28  735099082       96      0  175000000                en   \n",
       "2       2003-05-30  940335536      100      0   94000000                en   \n",
       "3       2017-10-27  800526015      105      0  175000000                en   \n",
       "4       2008-06-22  521311860       98      0  180000000                en   \n",
       "...            ...        ...      ...    ...        ...               ...   \n",
       "21668   2009-01-01          0        7      0          0                sk   \n",
       "21669   1990-12-24          0       22      0          0                en   \n",
       "21670   2019-06-26          0        6      0          0                en   \n",
       "21671   2019-03-15          0       60      0          0                ja   \n",
       "21672   2019-08-20          0       10      0          0                bs   \n",
       "\n",
       "                    original_title  popularity  \\\n",
       "0                       Inside Out     107.292   \n",
       "1                               Up      90.968   \n",
       "2                     Finding Nemo      55.456   \n",
       "3                             Coco     166.578   \n",
       "4                           WALL·E      58.517   \n",
       "...                            ...         ...   \n",
       "21668                       Viliam       0.600   \n",
       "21669  Story of the Christmas Toys       0.644   \n",
       "21670                     Migrante       0.851   \n",
       "21671    映画しまじろう しまじろうとうるるのヒーローランド       2.531   \n",
       "21672              Prirodni odabir       0.600   \n",
       "\n",
       "                                                  genres  \\\n",
       "0      ['Animation', 'Family', 'Adventure', 'Drama', ...   \n",
       "1         ['Animation', 'Comedy', 'Family', 'Adventure']   \n",
       "2                                ['Animation', 'Family']   \n",
       "3      ['Family', 'Animation', 'Fantasy', 'Music', 'C...   \n",
       "4             ['Animation', 'Family', 'Science Fiction']   \n",
       "...                                                  ...   \n",
       "21668                                      ['Animation']   \n",
       "21669                            ['Animation', 'Family']   \n",
       "21670                                      ['Animation']   \n",
       "21671                 ['Family', 'Animation', 'Fantasy']   \n",
       "21672                                      ['Animation']   \n",
       "\n",
       "                                    production_companies  \\\n",
       "0                      ['Pixar', 'Walt Disney Pictures']   \n",
       "1                                              ['Pixar']   \n",
       "2                                              ['Pixar']   \n",
       "3                      ['Pixar', 'Walt Disney Pictures']   \n",
       "4                      ['Pixar', 'Walt Disney Pictures']   \n",
       "...                                                  ...   \n",
       "21668                                   ['Ové Pictures']   \n",
       "21669                                   ['Leeway Sound']   \n",
       "21670                                   ['ANIMA LATINA']   \n",
       "21671  ['Benesse', 'Sony Music Direct', 'TOHO', 'The ...   \n",
       "21672                     ['Studio Neum', 'Zagreb Film']   \n",
       "\n",
       "                       production_countries             spoken_languages  \\\n",
       "0              ['United States of America']                      English   \n",
       "1              ['United States of America']                      English   \n",
       "2              ['United States of America']                      English   \n",
       "3              ['United States of America']             English, Spanish   \n",
       "4              ['United States of America']                      English   \n",
       "...                                     ...                          ...   \n",
       "21668                          ['Slovakia']              English, Slovak   \n",
       "21669          ['United States of America']                      English   \n",
       "21670                         ['Argentina']                      Spanish   \n",
       "21671                             ['Japan']  Japanese, English, Mandarin   \n",
       "21672  ['Bosnia', 'Herzegovina', 'Croatia']                      Bosnian   \n",
       "\n",
       "       release_year  release_month     profit  \n",
       "0              2015              6  682611174  \n",
       "1              2009              5  560099082  \n",
       "2              2003              5  846335536  \n",
       "3              2017             10  625526015  \n",
       "4              2008              6  341311860  \n",
       "...             ...            ...        ...  \n",
       "21668          2009              1          0  \n",
       "21669          1990             12          0  \n",
       "21670          2019              6          0  \n",
       "21671          2019              3          0  \n",
       "21672          2019              8          0  \n",
       "\n",
       "[21673 rows x 19 columns]"
      ]
     },
     "execution_count": 3,
     "metadata": {},
     "output_type": "execute_result"
    }
   ],
   "source": [
    "df"
   ]
  },
  {
   "cell_type": "code",
   "execution_count": 4,
   "id": "153d62ed-bc26-4edb-9f54-4139eab8b93a",
   "metadata": {
    "tags": []
   },
   "outputs": [
    {
     "name": "stdout",
     "output_type": "stream",
     "text": [
      "<class 'pandas.core.frame.DataFrame'>\n",
      "RangeIndex: 21673 entries, 0 to 21672\n",
      "Data columns (total 19 columns):\n",
      " #   Column                Non-Null Count  Dtype  \n",
      "---  ------                --------------  -----  \n",
      " 0   title                 21673 non-null  object \n",
      " 1   vote_average          21673 non-null  float64\n",
      " 2   vote_count            21673 non-null  int64  \n",
      " 3   status                21673 non-null  object \n",
      " 4   release_date          21673 non-null  object \n",
      " 5   revenue               21673 non-null  int64  \n",
      " 6   runtime               21673 non-null  int64  \n",
      " 7   adult                 21673 non-null  int64  \n",
      " 8   budget                21673 non-null  int64  \n",
      " 9   original_language     21673 non-null  object \n",
      " 10  original_title        21673 non-null  object \n",
      " 11  popularity            21673 non-null  float64\n",
      " 12  genres                21673 non-null  object \n",
      " 13  production_companies  21673 non-null  object \n",
      " 14  production_countries  21673 non-null  object \n",
      " 15  spoken_languages      21673 non-null  object \n",
      " 16  release_year          21673 non-null  int64  \n",
      " 17  release_month         21673 non-null  int64  \n",
      " 18  profit                21673 non-null  int64  \n",
      "dtypes: float64(2), int64(8), object(9)\n",
      "memory usage: 3.1+ MB\n"
     ]
    }
   ],
   "source": [
    "df.info()"
   ]
  },
  {
   "cell_type": "markdown",
   "id": "c1f16584-56b7-44a6-8449-409514d9e17c",
   "metadata": {
    "tags": []
   },
   "source": [
    "## Correlation Density Plot"
   ]
  },
  {
   "cell_type": "code",
   "execution_count": 5,
   "id": "bb4bbc88-90d6-4706-946e-8851c4b668e5",
   "metadata": {
    "tags": []
   },
   "outputs": [
    {
     "data": {
      "image/png": "[encoded data removed]",
      "text/plain": [
       "<Figure size 1200x1000 with 2 Axes>"
      ]
     },
     "metadata": {},
     "output_type": "display_data"
    }
   ],
   "source": [
    "#Select relevant columns. In this case, choose only numeric columns\n",
    "numeric_columns = df.select_dtypes(include=['float64', 'int64'])\n",
    "\n",
    "#Correlation Matrix\n",
    "correlation_matrix = numeric_columns.corr()\n",
    "\n",
    "#Set up figure with matplotlib\n",
    "plt.figure(figsize=(12,10))\n",
    "\n",
    "#Create density plot with Seaborn's heatmap\n",
    "sns.heatmap(correlation_matrix, annot=True, cmap=\"coolwarm\", fmt=\".2f\", linewidths=.5)\n",
    "plt.show()"
   ]
  },
  {
   "cell_type": "markdown",
   "id": "43c1fd1d-b569-4ecb-a23b-14cb3d05cf3c",
   "metadata": {
    "tags": []
   },
   "source": [
    "## ML Modeling"
   ]
  },
  {
   "cell_type": "raw",
   "id": "c4db2a3c-067b-42da-a0a0-a9b6c6e8c664",
   "metadata": {
    "tags": []
   },
   "source": [
    "Is budget a good predictor for profit?"
   ]
  },
  {
   "cell_type": "markdown",
   "id": "41c2e23e-825f-4955-b202-d4452e95574b",
   "metadata": {
    "tags": []
   },
   "source": [
    "### Preparation"
   ]
  },
  {
   "cell_type": "code",
   "execution_count": 17,
   "id": "6ab81046-5504-450e-9e61-0a8646578f98",
   "metadata": {
    "tags": []
   },
   "outputs": [],
   "source": [
    "#assign our feature and target variable\n",
    "feature = 'budget'\n",
    "target = 'revenue'\n",
    "\n",
    "#drop any rows with missing values\n",
    "\n",
    "regression_data = df[[feature, target]].dropna()\n",
    "\n",
    "X = regression_data.iloc[:, :-1].values\n",
    "y = regression_data.iloc[:, -1].values\n",
    "\n",
    "#split the data into a training set and a testing set\n",
    "X_train, X_test, y_train, y_test = train_test_split(X, y, test_size=0.2, random_state=42)\n",
    "\n",
    "#Scaling the data\n",
    "sc = StandardScaler()\n",
    "X_train = sc.fit_transform(X_train)\n",
    "X_test = sc.transform(X_test)"
   ]
  },
  {
   "cell_type": "markdown",
   "id": "00285d15-680c-440c-95c6-0e62cc922d61",
   "metadata": {
    "tags": []
   },
   "source": [
    "### Linear Regression"
   ]
  },
  {
   "cell_type": "code",
   "execution_count": 18,
   "id": "e3bd4cfe-d2db-4c29-bdc6-6a8a8c8ed34e",
   "metadata": {
    "tags": []
   },
   "outputs": [],
   "source": [
    "linearregression = LinearRegression()\n",
    "linearregression.fit(X_train, y_train)\n",
    "y_linear = linearregression.predict(X_test)"
   ]
  },
  {
   "cell_type": "markdown",
   "id": "d76af89f-0e4d-468a-811e-2cd4e1ef3e0d",
   "metadata": {
    "tags": []
   },
   "source": [
    "### Decision Tree Regression"
   ]
  },
  {
   "cell_type": "code",
   "execution_count": 19,
   "id": "96b6a983-872f-4514-bae1-402c9a02ae7f",
   "metadata": {
    "tags": []
   },
   "outputs": [],
   "source": [
    "decisiontreeregression = DecisionTreeRegressor()\n",
    "decisiontreeregression.fit(X_train, y_train)\n",
    "y_dectree = decisiontreeregression.predict(X_test)"
   ]
  },
  {
   "cell_type": "markdown",
   "id": "f5185dcb-2751-4369-9c12-0e345446d3bc",
   "metadata": {
    "tags": []
   },
   "source": [
    "### Random Forest Regression"
   ]
  },
  {
   "cell_type": "code",
   "execution_count": 20,
   "id": "b1c0d803-5260-4654-b5c3-1ebef50cf3b0",
   "metadata": {
    "tags": []
   },
   "outputs": [],
   "source": [
    "randomforestregression = RandomForestRegressor()\n",
    "randomforestregression.fit(X_train, y_train)\n",
    "y_randfor = randomforestregression.predict(X_test)"
   ]
  },
  {
   "cell_type": "markdown",
   "id": "51777f42-0e14-44e7-a6fd-13cd68e839ea",
   "metadata": {
    "tags": []
   },
   "source": [
    "## Model Evaluation"
   ]
  },
  {
   "cell_type": "markdown",
   "id": "640e7a42-b436-4c6f-96ff-61ee359cda4d",
   "metadata": {
    "tags": []
   },
   "source": [
    "### R-Squared"
   ]
  },
  {
   "cell_type": "code",
   "execution_count": 21,
   "id": "8e00d5d2-1f77-432f-8092-842b5e27eb15",
   "metadata": {
    "tags": []
   },
   "outputs": [
    {
     "name": "stdout",
     "output_type": "stream",
     "text": [
      "r_squared metrics\n",
      "      Regression Algorithms     Score\n",
      "0         Linear Regression  0.576661\n",
      "1  Decision Tree Regression  0.506194\n",
      "2   Random Forest Regressor  0.532729\n"
     ]
    }
   ],
   "source": [
    "data1 = {\"Regression Algorithms\": [\"Linear Regression\", \"Decision Tree Regression\", \"Random Forest Regressor\"],\n",
    "         \"Score\" : [r2_score(y_test, y_linear), r2_score(y_test, y_dectree),\n",
    "                   r2_score(y_test, y_randfor) ]}\n",
    "\n",
    "score = pd.DataFrame(data1)\n",
    "print('r_squared metrics')\n",
    "print(score)"
   ]
  },
  {
   "cell_type": "markdown",
   "id": "b6d2498d-99df-445f-8927-4575eec80fb4",
   "metadata": {
    "tags": []
   },
   "source": [
    "R_squared shows these are not great models. We were looking to choose a model closest to a score of 1."
   ]
  },
  {
   "cell_type": "markdown",
   "id": "2e992203-089b-40ca-a988-0d8cb8dce39a",
   "metadata": {},
   "source": [
    "### Mean Absolute Error"
   ]
  },
  {
   "cell_type": "code",
   "execution_count": 22,
   "id": "e1e3b5b2-59c4-4e8e-94f4-040b05ab7379",
   "metadata": {
    "tags": []
   },
   "outputs": [
    {
     "name": "stdout",
     "output_type": "stream",
     "text": [
      "mean absolute error\n",
      "      Regression Algorithms         Score\n",
      "0         Linear Regression  3.206873e+06\n",
      "1  Decision Tree Regression  3.342756e+06\n",
      "2   Random Forest Regressor  3.296651e+06\n"
     ]
    }
   ],
   "source": [
    "data2 = {\"Regression Algorithms\": [\"Linear Regression\", \"Decision Tree Regression\", \"Random Forest Regressor\"],\n",
    "         \"Score\" : [mean_absolute_error(y_test, y_linear), mean_absolute_error(y_test, y_dectree),\n",
    "                   mean_absolute_error(y_test, y_randfor) ]}\n",
    "\n",
    "score = pd.DataFrame(data2)\n",
    "print('mean absolute error')\n",
    "print(score)"
   ]
  },
  {
   "cell_type": "markdown",
   "id": "4da18566-8b9f-4fc0-827e-a3d5c493785f",
   "metadata": {
    "tags": []
   },
   "source": [
    "## Feature Engineering"
   ]
  },
  {
   "cell_type": "markdown",
   "id": "06d31056-0b87-445d-bde2-7c42288c1d0a",
   "metadata": {
    "tags": []
   },
   "source": [
    "### Polynomial Features"
   ]
  },
  {
   "cell_type": "code",
   "execution_count": 23,
   "id": "99aea647-40c5-4dbe-ad3c-9867af51779e",
   "metadata": {
    "tags": []
   },
   "outputs": [
    {
     "name": "stdout",
     "output_type": "stream",
     "text": [
      "Model Performance\n",
      "                                               Model  Mean Squared Error\n",
      "0  Linear Regression with Polynomial Features (De...        7.345389e+14\n",
      "Model Performance\n",
      "                                               Model  Mean Squared Error\n",
      "0  Linear Regression with Polynomial Features (De...        7.360024e+14\n",
      "Model Performance\n",
      "                                               Model  Mean Squared Error\n",
      "0  Linear Regression with Polynomial Features (De...        7.369875e+14\n"
     ]
    }
   ],
   "source": [
    "from sklearn.preprocessing import PolynomialFeatures\n",
    "\n",
    "\n",
    "# Experiment with different degrees\n",
    "features = ['revenue', 'budget', 'popularity']\n",
    "target = 'profit'\n",
    "degrees_to_try = [2, 3, 4]\n",
    "\n",
    "for degree in degrees_to_try:\n",
    "    # Feature Engineering - Polynomial Features\n",
    "    poly = PolynomialFeatures(degree=degree, include_bias=False)\n",
    "    X_train_poly = poly.fit_transform(X_train)\n",
    "    X_test_poly = poly.transform(X_test)\n",
    "\n",
    "    # Scaling the data\n",
    "    sc = StandardScaler()\n",
    "    X_train_poly = sc.fit_transform(X_train_poly)\n",
    "    X_test_poly = sc.transform(X_test_poly)\n",
    "\n",
    "    # Linear Regression with Polynomial Features\n",
    "    linear_regression_poly = LinearRegression()\n",
    "    linear_regression_poly.fit(X_train_poly, y_train)\n",
    "\n",
    "    # Predictions\n",
    "    y_pred_poly = linear_regression_poly.predict(X_test_poly)\n",
    "\n",
    "    # Evaluate the model\n",
    "    mse_poly = mean_squared_error(y_test, y_pred_poly)\n",
    "\n",
    "    # Display the results\n",
    "    data = {\n",
    "        \"Model\": [f\"Linear Regression with Polynomial Features (Degree {degree})\"],\n",
    "        \"Mean Squared Error\": [mse_poly]\n",
    "    }\n",
    "\n",
    "    results = pd.DataFrame(data)\n",
    "    print(\"Model Performance\")\n",
    "    print(results)"
   ]
  },
  {
   "cell_type": "markdown",
   "id": "f77fe165-a903-4b63-a522-333e19bf5f8c",
   "metadata": {},
   "source": [
    "### Interaction Terms"
   ]
  },
  {
   "cell_type": "code",
   "execution_count": 15,
   "id": "e4eb8c50-f2e8-4bbc-8a69-31538aa31fef",
   "metadata": {
    "tags": []
   },
   "outputs": [
    {
     "name": "stdout",
     "output_type": "stream",
     "text": [
      "Model Performance\n",
      "                                               Model  Mean Squared Error\n",
      "0  Linear Regression with Polynomial and Interact...        4.646882e+13\n",
      "1  Random Forest Regressor with Polynomial and In...        1.721966e+13\n"
     ]
    }
   ],
   "source": [
    "# Drop any rows with missing values\n",
    "regression_data = df[features + [target]].dropna()\n",
    "\n",
    "X = regression_data[features]\n",
    "y = regression_data[target]\n",
    "\n",
    "# Feature Engineering - Polynomial and Interaction Terms\n",
    "poly = PolynomialFeatures(degree=2, interaction_only=True, include_bias=False)\n",
    "X_poly_interaction = poly.fit_transform(X)\n",
    "\n",
    "# Split the data into a training set and a testing set\n",
    "X_train, X_test, y_train, y_test = train_test_split(X_poly_interaction, y, test_size=0.2, random_state=42)\n",
    "\n",
    "# Scaling the data\n",
    "sc = StandardScaler()\n",
    "X_train = sc.fit_transform(X_train)\n",
    "X_test = sc.transform(X_test)\n",
    "\n",
    "# Linear Regression with Polynomial and Interaction Terms\n",
    "linear_regression_poly = LinearRegression()\n",
    "linear_regression_poly.fit(X_train, y_train)\n",
    "\n",
    "# Predictions\n",
    "y_pred_poly = linear_regression_poly.predict(X_test)\n",
    "\n",
    "# Evaluate Linear Regression model\n",
    "mse_poly = mean_squared_error(y_test, y_pred_poly)\n",
    "\n",
    "# Random Forest Regressor\n",
    "random_forest_regressor = RandomForestRegressor(n_estimators=100, random_state=42)\n",
    "random_forest_regressor.fit(X_train, y_train)\n",
    "\n",
    "# Predictions\n",
    "y_pred_rf = random_forest_regressor.predict(X_test)\n",
    "\n",
    "# Evaluate Random Forest model\n",
    "mse_rf = mean_squared_error(y_test, y_pred_rf)\n",
    "\n",
    "# Display the results\n",
    "data = {\n",
    "    \"Model\": [f\"Linear Regression with Polynomial and Interaction Terms (Degree 2)\",\n",
    "              f\"Random Forest Regressor with Polynomial and Interaction Terms (Degree 2)\"],\n",
    "    \"Mean Squared Error\": [mse_poly, mse_rf]\n",
    "}\n",
    "\n",
    "results = pd.DataFrame(data)\n",
    "print(\"Model Performance\")\n",
    "print(results)\n"
   ]
  },
  {
   "cell_type": "raw",
   "id": "aa92376c-a332-4000-bb4e-1b79a1e33a2c",
   "metadata": {},
   "source": []
  },
  {
   "cell_type": "code",
   "execution_count": null,
   "id": "ea188f1d-26ec-451f-b661-c821e112e4e3",
   "metadata": {},
   "outputs": [],
   "source": []
  }
 ],
 "metadata": {
  "kernelspec": {
   "display_name": "Python 3 (ipykernel)",
   "language": "python",
   "name": "python3"
  },
  "language_info": {
   "codemirror_mode": {
    "name": "ipython",
    "version": 3
   },
   "file_extension": ".py",
   "mimetype": "text/x-python",
   "name": "python",
   "nbconvert_exporter": "python",
   "pygments_lexer": "ipython3",
   "version": "3.11.5"
  }
 },
 "nbformat": 4,
 "nbformat_minor": 5
}
